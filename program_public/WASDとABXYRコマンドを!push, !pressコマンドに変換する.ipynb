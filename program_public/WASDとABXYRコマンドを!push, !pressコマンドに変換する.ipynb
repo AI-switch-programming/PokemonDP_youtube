{
 "cells": [
  {
   "cell_type": "code",
   "execution_count": 1,
   "metadata": {},
   "outputs": [
    {
     "name": "stdout",
     "output_type": "stream",
     "text": [
      "!press right 2.0\n",
      "!push down 3\n",
      "!press down 3.0\n",
      "!push up \n"
     ]
    }
   ],
   "source": [
    "#新しい入力モードの開発\n",
    "# WASDか2468\n",
    "import numpy as np\n",
    "\n",
    "def convert_msg2command(arr, comm):\n",
    "    arr_buttons = np.array([\"up\", \"left\", \"down\", \"right\"])\n",
    "    id0 = np.where(arr==comm[0])[0]\n",
    "    button = arr_buttons[id0][0]\n",
    "    if comm[-1]==\"s\":\n",
    "        id1 = np.where(\"s\"==comm[-1])[0]\n",
    "        comm = comm[0:-1]\n",
    "        command = \"!press\" \n",
    "    else:\n",
    "        command = \"!push\"\n",
    "        \n",
    "    try:\n",
    "        if command == \"!press\":\n",
    "            option = float(comm[1:])\n",
    "        elif command == \"!push\":\n",
    "            option = int(comm[1:])\n",
    "    except:\n",
    "        option=\"\"    \n",
    "    return command, button, option\n",
    "\n",
    "msg = [\"d2s s3 s3s w\"] # wasd mode\n",
    "#msg = [\"210s \"] # 2684 mode\n",
    "comms = msg[0].strip().split()\n",
    "comms_len = len(comms)\n",
    "\n",
    "arr_2468 = np.array([\"2\", \"6\", \"8\", \"4\"])\n",
    "arr_wasd = np.array([\"w\", \"a\", \"s\", \"d\"])\n",
    "\n",
    "for i in range(0, comms_len):\n",
    "    comm = comms[i]\n",
    "    if comm[0] in arr_2468:\n",
    "        command, button, option = convert_msg2command(arr_2468, comm)\n",
    "    elif comm[0] in arr_wasd:\n",
    "        command, button, option = convert_msg2command(arr_wasd, comm)\n",
    "    else:\n",
    "        pass\n",
    "    print(command, button, option)\n",
    "\n",
    "    "
   ]
  },
  {
   "cell_type": "code",
   "execution_count": null,
   "metadata": {},
   "outputs": [],
   "source": []
  }
 ],
 "metadata": {
  "kernelspec": {
   "display_name": "Python 3",
   "language": "python",
   "name": "python3"
  },
  "language_info": {
   "codemirror_mode": {
    "name": "ipython",
    "version": 3
   },
   "file_extension": ".py",
   "mimetype": "text/x-python",
   "name": "python",
   "nbconvert_exporter": "python",
   "pygments_lexer": "ipython3",
   "version": "3.7.7"
  }
 },
 "nbformat": 4,
 "nbformat_minor": 4
}
